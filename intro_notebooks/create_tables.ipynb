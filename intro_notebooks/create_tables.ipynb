{
 "cells": [
  {
   "cell_type": "markdown",
   "metadata": {},
   "source": [
    "## Create BlazingSQL tables\n",
    "\n",
    "This Notebook covers creating BlazingSQL tables from \n",
    "\n",
    "[Docs](https://docs.blazingdb.com/docs/text-files) | [Welcome notebook](../welcome.ipynb#BlazingContext-API)"
   ]
  },
  {
   "cell_type": "code",
   "execution_count": 1,
   "metadata": {},
   "outputs": [
    {
     "name": "stdout",
     "output_type": "stream",
     "text": [
      "BlazingContext ready\n"
     ]
    }
   ],
   "source": [
    "from blazingsql import BlazingContext\n",
    "\n",
    "bc = BlazingContext()"
   ]
  },
  {
   "cell_type": "markdown",
   "metadata": {},
   "source": [
    "BlazingSQL requires the full path to your data to create tables. The next cell will identify the path to the data directory for you."
   ]
  },
  {
   "cell_type": "code",
   "execution_count": 2,
   "metadata": {},
   "outputs": [],
   "source": [
    "import os\n",
    "# tag path to data directory\n",
    "data_dir = f\"{os.getcwd().split('/intro_notebooks')[0]}/data\""
   ]
  },
  {
   "cell_type": "markdown",
   "metadata": {},
   "source": [
    "#### Text Files\n",
    "\n",
    "You can use BlazingSQL to SQL query plain text files (flat files), such as:\n",
    "\n",
    "- CSV files (comma-separated values)\n",
    "- TSV files (tab-separated values)\n",
    "- PSV files (pipe-separated values)\n",
    "\n",
    "BlazingSQL relies on cuIO when reading files, which means we can leverage numerous features, such as inferring column names through a header row and data types through a sampling method. \n",
    "\n",
    "[Docs](https://docs.blazingdb.com/docs/text-files)"
   ]
  },
  {
   "cell_type": "code",
   "execution_count": 3,
   "metadata": {},
   "outputs": [
    {
     "data": {
      "text/plain": [
       "<pyblazing.apiv2.context.BlazingTable at 0x7f1836ffb510>"
      ]
     },
     "execution_count": 3,
     "metadata": {},
     "output_type": "execute_result"
    }
   ],
   "source": [
    "# CSV\n",
    "bc.create_table('iris_csv', f'{data_dir}/iris.csv', header=0)"
   ]
  },
  {
   "cell_type": "markdown",
   "metadata": {},
   "source": [
    "#### JSON Files\n",
    "\n",
    "[Docs](https://docs.blazingdb.com/docs/json)"
   ]
  },
  {
   "cell_type": "code",
   "execution_count": null,
   "metadata": {},
   "outputs": [],
   "source": [
    "# create table from JSON file\n",
    "bc.create_table('iris_csv', f'{data_dir}/iris.csv')"
   ]
  },
  {
   "cell_type": "markdown",
   "metadata": {},
   "source": [
    "#### Apache Parquet\n",
    "\n",
    "[Docs](https://docs.blazingdb.com/docs/apache-parquet)"
   ]
  },
  {
   "cell_type": "code",
   "execution_count": null,
   "metadata": {},
   "outputs": [],
   "source": [
    "# create table from parquet file\n",
    "bc.create_table('iris_csv', f'{data_dir}/iris.csv')"
   ]
  },
  {
   "cell_type": "markdown",
   "metadata": {},
   "source": [
    "#### Apache ORC\n",
    "\n",
    "[Docs](https://docs.blazingdb.com/docs/apache-orc)"
   ]
  },
  {
   "cell_type": "code",
   "execution_count": null,
   "metadata": {},
   "outputs": [],
   "source": [
    "# create table from ORC file\n",
    "bc.create_table('iris_csv', f'{data_dir}/iris.csv')"
   ]
  },
  {
   "cell_type": "markdown",
   "metadata": {},
   "source": [
    "#### Apache Hive\n",
    "\n",
    "[Docs](https://docs.blazingdb.com/docs/apache-hive)"
   ]
  },
  {
   "cell_type": "code",
   "execution_count": null,
   "metadata": {},
   "outputs": [],
   "source": [
    "from pyhive import hive\n",
    "\n",
    "# connect to Hive and obtain a cursor\n",
    "cursor = hive.connect('your_hive_ip_address').cursor()\n",
    "\n",
    "# give create_table the Hive cursor\n",
    "# the table name must match the same table name as in Hive\n",
    "bc.create_table(\"hive_table_name\", cursor)\n",
    "\n",
    "# query table (result = cuDF DataFrame)\n",
    "result = bc.sql(\"select * from hive_table_name\")\n",
    "\n",
    "# create table from Hive table\n",
    "bc.create_table('iris_csv', f'{data_dir}/iris.csv')"
   ]
  },
  {
   "cell_type": "markdown",
   "metadata": {},
   "source": [
    "#### cuDF or pandas DataFrame\n",
    "\n",
    "[Docs](https://docs.blazingdb.com/docs/gpu-dataframe-gdf)"
   ]
  },
  {
   "cell_type": "code",
   "execution_count": 4,
   "metadata": {},
   "outputs": [
    {
     "data": {
      "text/plain": [
       "<pyblazing.apiv2.context.BlazingTable at 0x7f1836ffb850>"
      ]
     },
     "execution_count": 4,
     "metadata": {},
     "output_type": "execute_result"
    }
   ],
   "source": [
    "import cudf\n",
    "\n",
    "# create cuDF DataFrame\n",
    "gdf = cudf.read_csv('../data/iris.csv')\n",
    "\n",
    "# create table from cuDF DataFrame\n",
    "bc.create_table('cudf_iris', gdf)"
   ]
  },
  {
   "cell_type": "code",
   "execution_count": 5,
   "metadata": {},
   "outputs": [
    {
     "data": {
      "text/plain": [
       "<pyblazing.apiv2.context.BlazingTable at 0x7f18524a3c50>"
      ]
     },
     "execution_count": 5,
     "metadata": {},
     "output_type": "execute_result"
    }
   ],
   "source": [
    "import pandas as pd\n",
    "\n",
    "# create pandas DataFrame\n",
    "df = pd.read_csv('../data/iris.csv')\n",
    "\n",
    "# create table from pandas DataFrame\n",
    "bc.create_table('pandas_iris', df)"
   ]
  },
  {
   "cell_type": "markdown",
   "metadata": {},
   "source": [
    "#### Storage Plugins\n",
    "\n",
    "We think you should let data rest wherever it likes. Don't worry about synching, directly query files wherever they reside.\n",
    "\n",
    "With the BlazingSQL Filesystem API, you can register and connect to multiple storage solutions. \n",
    "\n",
    "- [AWS](https://docs.blazingdb.com/docs/s3) \n",
    "- [Google Storage](https://docs.blazingdb.com/docs/google-cloud-storage)\n",
    "- [HDFS](https://docs.blazingdb.com/docs/hdfs)\n",
    "\n",
    "Once a filesystem is registered you can reference the user-defined file path when creating a new table off of a file.\n",
    "    \n",
    "[Docs](https://docs.blazingdb.com/docs/connecting-data-sources) | [Intro notebook](storage_plugins.ipynb)"
   ]
  },
  {
   "cell_type": "code",
   "execution_count": 6,
   "metadata": {},
   "outputs": [
    {
     "name": "stdout",
     "output_type": "stream",
     "text": [
      "file s3://bsql_data/tpch_sf1/orders/0_0_0.parquet\n"
     ]
    },
    {
     "data": {
      "text/plain": [
       "<pyblazing.apiv2.context.BlazingTable at 0x7f182c462390>"
      ]
     },
     "execution_count": 6,
     "metadata": {},
     "output_type": "execute_result"
    }
   ],
   "source": [
    "# register AWS S3 storage bucket \n",
    "bc.s3('bsql_data', bucket_name='blazingsql-colab')\n",
    "\n",
    "# create table from S3 bucket\n",
    "bc.create_table('orders', 's3://bsql_data/tpch_sf1/orders/0_0_0.parquet')"
   ]
  },
  {
   "cell_type": "markdown",
   "metadata": {},
   "source": [
    "## Query BlazingSQL tables\n",
    "\n",
    "[Docs](https://docs.blazingdb.com/docs/single-gpu) | [Intro notebook](query_tables.ipynb)"
   ]
  },
  {
   "cell_type": "code",
   "execution_count": 7,
   "metadata": {},
   "outputs": [
    {
     "data": {
      "text/html": [
       "<div>\n",
       "<style scoped>\n",
       "    .dataframe tbody tr th:only-of-type {\n",
       "        vertical-align: middle;\n",
       "    }\n",
       "\n",
       "    .dataframe tbody tr th {\n",
       "        vertical-align: top;\n",
       "    }\n",
       "\n",
       "    .dataframe thead th {\n",
       "        text-align: right;\n",
       "    }\n",
       "</style>\n",
       "<table border=\"1\" class=\"dataframe\">\n",
       "  <thead>\n",
       "    <tr style=\"text-align: right;\">\n",
       "      <th></th>\n",
       "      <th>o_orderkey</th>\n",
       "      <th>o_custkey</th>\n",
       "      <th>o_orderstatus</th>\n",
       "      <th>o_totalprice</th>\n",
       "      <th>o_orderdate</th>\n",
       "      <th>o_orderpriority</th>\n",
       "      <th>o_clerk</th>\n",
       "      <th>o_shippriority</th>\n",
       "      <th>o_comment</th>\n",
       "    </tr>\n",
       "  </thead>\n",
       "  <tbody>\n",
       "    <tr>\n",
       "      <th>0</th>\n",
       "      <td>1</td>\n",
       "      <td>36901</td>\n",
       "      <td>O</td>\n",
       "      <td>173665.468750</td>\n",
       "      <td>1996-01-02</td>\n",
       "      <td>5-LOW</td>\n",
       "      <td>Clerk#000000951</td>\n",
       "      <td>0</td>\n",
       "      <td>nstructions sleep furiously among</td>\n",
       "    </tr>\n",
       "    <tr>\n",
       "      <th>1</th>\n",
       "      <td>2</td>\n",
       "      <td>78002</td>\n",
       "      <td>O</td>\n",
       "      <td>46929.179688</td>\n",
       "      <td>1996-12-01</td>\n",
       "      <td>1-URGENT</td>\n",
       "      <td>Clerk#000000880</td>\n",
       "      <td>0</td>\n",
       "      <td>foxes. pending accounts at the pending, silen...</td>\n",
       "    </tr>\n",
       "    <tr>\n",
       "      <th>2</th>\n",
       "      <td>3</td>\n",
       "      <td>123314</td>\n",
       "      <td>F</td>\n",
       "      <td>193846.250000</td>\n",
       "      <td>1993-10-14</td>\n",
       "      <td>5-LOW</td>\n",
       "      <td>Clerk#000000955</td>\n",
       "      <td>0</td>\n",
       "      <td>sly final accounts boost. carefully regular id...</td>\n",
       "    </tr>\n",
       "    <tr>\n",
       "      <th>3</th>\n",
       "      <td>4</td>\n",
       "      <td>136777</td>\n",
       "      <td>O</td>\n",
       "      <td>32151.779297</td>\n",
       "      <td>1995-10-11</td>\n",
       "      <td>5-LOW</td>\n",
       "      <td>Clerk#000000124</td>\n",
       "      <td>0</td>\n",
       "      <td>sits. slyly regular warthogs cajole. regular, ...</td>\n",
       "    </tr>\n",
       "    <tr>\n",
       "      <th>4</th>\n",
       "      <td>5</td>\n",
       "      <td>44485</td>\n",
       "      <td>F</td>\n",
       "      <td>144659.203125</td>\n",
       "      <td>1994-07-30</td>\n",
       "      <td>5-LOW</td>\n",
       "      <td>Clerk#000000925</td>\n",
       "      <td>0</td>\n",
       "      <td>quickly. bold deposits sleep slyly. packages u...</td>\n",
       "    </tr>\n",
       "    <tr>\n",
       "      <th>...</th>\n",
       "      <td>...</td>\n",
       "      <td>...</td>\n",
       "      <td>...</td>\n",
       "      <td>...</td>\n",
       "      <td>...</td>\n",
       "      <td>...</td>\n",
       "      <td>...</td>\n",
       "      <td>...</td>\n",
       "      <td>...</td>\n",
       "    </tr>\n",
       "    <tr>\n",
       "      <th>1499995</th>\n",
       "      <td>5999972</td>\n",
       "      <td>143594</td>\n",
       "      <td>O</td>\n",
       "      <td>114856.679688</td>\n",
       "      <td>1996-05-02</td>\n",
       "      <td>3-MEDIUM</td>\n",
       "      <td>Clerk#000000536</td>\n",
       "      <td>0</td>\n",
       "      <td>y express accounts above the blithely bold</td>\n",
       "    </tr>\n",
       "    <tr>\n",
       "      <th>1499996</th>\n",
       "      <td>5999973</td>\n",
       "      <td>32071</td>\n",
       "      <td>O</td>\n",
       "      <td>68906.562500</td>\n",
       "      <td>1997-07-13</td>\n",
       "      <td>4-NOT SPECIFIED</td>\n",
       "      <td>Clerk#000000130</td>\n",
       "      <td>0</td>\n",
       "      <td>special ideas use pending pinto beans. reques...</td>\n",
       "    </tr>\n",
       "    <tr>\n",
       "      <th>1499997</th>\n",
       "      <td>5999974</td>\n",
       "      <td>55448</td>\n",
       "      <td>F</td>\n",
       "      <td>92750.898438</td>\n",
       "      <td>1993-07-28</td>\n",
       "      <td>3-MEDIUM</td>\n",
       "      <td>Clerk#000000776</td>\n",
       "      <td>0</td>\n",
       "      <td>fts. requests affix furiously a</td>\n",
       "    </tr>\n",
       "    <tr>\n",
       "      <th>1499998</th>\n",
       "      <td>5999975</td>\n",
       "      <td>113398</td>\n",
       "      <td>F</td>\n",
       "      <td>63216.648438</td>\n",
       "      <td>1993-07-25</td>\n",
       "      <td>1-URGENT</td>\n",
       "      <td>Clerk#000000813</td>\n",
       "      <td>0</td>\n",
       "      <td>oost! ironic instructions h</td>\n",
       "    </tr>\n",
       "    <tr>\n",
       "      <th>1499999</th>\n",
       "      <td>6000000</td>\n",
       "      <td>110063</td>\n",
       "      <td>O</td>\n",
       "      <td>37625.289062</td>\n",
       "      <td>1996-08-31</td>\n",
       "      <td>2-HIGH</td>\n",
       "      <td>Clerk#000000411</td>\n",
       "      <td>0</td>\n",
       "      <td>ess pinto beans boost slyly regular accounts! ...</td>\n",
       "    </tr>\n",
       "  </tbody>\n",
       "</table>\n",
       "<p>1500000 rows × 9 columns</p>\n",
       "</div>"
      ],
      "text/plain": [
       "         o_orderkey  o_custkey o_orderstatus   o_totalprice o_orderdate  \\\n",
       "0                 1      36901             O  173665.468750  1996-01-02   \n",
       "1                 2      78002             O   46929.179688  1996-12-01   \n",
       "2                 3     123314             F  193846.250000  1993-10-14   \n",
       "3                 4     136777             O   32151.779297  1995-10-11   \n",
       "4                 5      44485             F  144659.203125  1994-07-30   \n",
       "...             ...        ...           ...            ...         ...   \n",
       "1499995     5999972     143594             O  114856.679688  1996-05-02   \n",
       "1499996     5999973      32071             O   68906.562500  1997-07-13   \n",
       "1499997     5999974      55448             F   92750.898438  1993-07-28   \n",
       "1499998     5999975     113398             F   63216.648438  1993-07-25   \n",
       "1499999     6000000     110063             O   37625.289062  1996-08-31   \n",
       "\n",
       "         o_orderpriority          o_clerk  o_shippriority  \\\n",
       "0                  5-LOW  Clerk#000000951               0   \n",
       "1               1-URGENT  Clerk#000000880               0   \n",
       "2                  5-LOW  Clerk#000000955               0   \n",
       "3                  5-LOW  Clerk#000000124               0   \n",
       "4                  5-LOW  Clerk#000000925               0   \n",
       "...                  ...              ...             ...   \n",
       "1499995         3-MEDIUM  Clerk#000000536               0   \n",
       "1499996  4-NOT SPECIFIED  Clerk#000000130               0   \n",
       "1499997         3-MEDIUM  Clerk#000000776               0   \n",
       "1499998         1-URGENT  Clerk#000000813               0   \n",
       "1499999           2-HIGH  Clerk#000000411               0   \n",
       "\n",
       "                                                 o_comment  \n",
       "0                       nstructions sleep furiously among   \n",
       "1         foxes. pending accounts at the pending, silen...  \n",
       "2        sly final accounts boost. carefully regular id...  \n",
       "3        sits. slyly regular warthogs cajole. regular, ...  \n",
       "4        quickly. bold deposits sleep slyly. packages u...  \n",
       "...                                                    ...  \n",
       "1499995        y express accounts above the blithely bold   \n",
       "1499996   special ideas use pending pinto beans. reques...  \n",
       "1499997                    fts. requests affix furiously a  \n",
       "1499998                        oost! ironic instructions h  \n",
       "1499999  ess pinto beans boost slyly regular accounts! ...  \n",
       "\n",
       "[1500000 rows x 9 columns]"
      ]
     },
     "execution_count": 7,
     "metadata": {},
     "output_type": "execute_result"
    }
   ],
   "source": [
    "bc.sql('SELECT * FROM orders')"
   ]
  },
  {
   "cell_type": "code",
   "execution_count": 8,
   "metadata": {},
   "outputs": [
    {
     "data": {
      "text/html": [
       "<div>\n",
       "<style scoped>\n",
       "    .dataframe tbody tr th:only-of-type {\n",
       "        vertical-align: middle;\n",
       "    }\n",
       "\n",
       "    .dataframe tbody tr th {\n",
       "        vertical-align: top;\n",
       "    }\n",
       "\n",
       "    .dataframe thead th {\n",
       "        text-align: right;\n",
       "    }\n",
       "</style>\n",
       "<table border=\"1\" class=\"dataframe\">\n",
       "  <thead>\n",
       "    <tr style=\"text-align: right;\">\n",
       "      <th></th>\n",
       "      <th>sepal_length</th>\n",
       "      <th>sepal_width</th>\n",
       "      <th>target</th>\n",
       "    </tr>\n",
       "  </thead>\n",
       "  <tbody>\n",
       "    <tr>\n",
       "      <th>0</th>\n",
       "      <td>5.1</td>\n",
       "      <td>3.5</td>\n",
       "      <td>0</td>\n",
       "    </tr>\n",
       "    <tr>\n",
       "      <th>1</th>\n",
       "      <td>4.9</td>\n",
       "      <td>3.0</td>\n",
       "      <td>0</td>\n",
       "    </tr>\n",
       "    <tr>\n",
       "      <th>2</th>\n",
       "      <td>4.7</td>\n",
       "      <td>3.2</td>\n",
       "      <td>0</td>\n",
       "    </tr>\n",
       "    <tr>\n",
       "      <th>3</th>\n",
       "      <td>4.6</td>\n",
       "      <td>3.1</td>\n",
       "      <td>0</td>\n",
       "    </tr>\n",
       "    <tr>\n",
       "      <th>4</th>\n",
       "      <td>5.0</td>\n",
       "      <td>3.6</td>\n",
       "      <td>0</td>\n",
       "    </tr>\n",
       "    <tr>\n",
       "      <th>...</th>\n",
       "      <td>...</td>\n",
       "      <td>...</td>\n",
       "      <td>...</td>\n",
       "    </tr>\n",
       "    <tr>\n",
       "      <th>95</th>\n",
       "      <td>6.7</td>\n",
       "      <td>3.0</td>\n",
       "      <td>2</td>\n",
       "    </tr>\n",
       "    <tr>\n",
       "      <th>96</th>\n",
       "      <td>6.3</td>\n",
       "      <td>2.5</td>\n",
       "      <td>2</td>\n",
       "    </tr>\n",
       "    <tr>\n",
       "      <th>97</th>\n",
       "      <td>6.5</td>\n",
       "      <td>3.0</td>\n",
       "      <td>2</td>\n",
       "    </tr>\n",
       "    <tr>\n",
       "      <th>98</th>\n",
       "      <td>6.2</td>\n",
       "      <td>3.4</td>\n",
       "      <td>2</td>\n",
       "    </tr>\n",
       "    <tr>\n",
       "      <th>99</th>\n",
       "      <td>5.9</td>\n",
       "      <td>3.0</td>\n",
       "      <td>2</td>\n",
       "    </tr>\n",
       "  </tbody>\n",
       "</table>\n",
       "<p>100 rows × 3 columns</p>\n",
       "</div>"
      ],
      "text/plain": [
       "    sepal_length  sepal_width  target\n",
       "0            5.1          3.5       0\n",
       "1            4.9          3.0       0\n",
       "2            4.7          3.2       0\n",
       "3            4.6          3.1       0\n",
       "4            5.0          3.6       0\n",
       "..           ...          ...     ...\n",
       "95           6.7          3.0       2\n",
       "96           6.3          2.5       2\n",
       "97           6.5          3.0       2\n",
       "98           6.2          3.4       2\n",
       "99           5.9          3.0       2\n",
       "\n",
       "[100 rows x 3 columns]"
      ]
     },
     "execution_count": 8,
     "metadata": {},
     "output_type": "execute_result"
    }
   ],
   "source": [
    "bc.sql('SELECT sepal_length, sepal_width, target FROM iris_csv WHERE target <> 1')"
   ]
  }
 ],
 "metadata": {
  "kernelspec": {
   "display_name": "RAPIDS Nightly",
   "language": "python",
   "name": "python3"
  },
  "language_info": {
   "codemirror_mode": {
    "name": "ipython",
    "version": 3
   },
   "file_extension": ".py",
   "mimetype": "text/x-python",
   "name": "python",
   "nbconvert_exporter": "python",
   "pygments_lexer": "ipython3",
   "version": "3.7.6"
  }
 },
 "nbformat": 4,
 "nbformat_minor": 4
}
