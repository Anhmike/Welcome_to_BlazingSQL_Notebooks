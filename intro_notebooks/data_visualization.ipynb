{
 "cells": [
  {
   "cell_type": "markdown",
   "metadata": {},
   "source": [
    "# Data Visualization\n",
    "\n",
    "Let's go through some of the data visualization possibilities available within BlazingSQL Notebooks.\n",
    "\n",
    "The RAPIDS ecosystem and `cudf.DataFrame` are built on a series of standards to simplify interoperability with many different tools. A `cudf.DataFrame`'s ability to easily convert to a `pandas.DataFrame` makes a large portion of the [Python Visualization (PyViz)](https://pyviz.org/overviews/index.html) stack immediately accessible. \n",
    "\n",
    "We've also included a few examples from the growing group of visualization libraries that are leveraging GPU-acceleration to quickly render millions or billions of points. \n",
    "\n",
    "## ETL - Let's Get Some Data\n",
    "\n",
    "First, create a table to query from the [NYC Yellow Taxi dataset](https://www1.nyc.gov/site/tlc/about/tlc-trip-record-data.page) you might have seen in our other demos."
   ]
  },
  {
   "cell_type": "code",
   "execution_count": null,
   "metadata": {},
   "outputs": [],
   "source": [
    "from blazingsql import BlazingContext\n",
    "bc = BlazingContext()"
   ]
  },
  {
   "cell_type": "code",
   "execution_count": null,
   "metadata": {},
   "outputs": [],
   "source": [
    "bc.create_table('taxi', '../data/sample_taxi.csv', header=0)"
   ]
  },
  {
   "cell_type": "markdown",
   "metadata": {},
   "source": [
    "Let's give the data a quick look just to get an understanding."
   ]
  },
  {
   "cell_type": "code",
   "execution_count": null,
   "metadata": {},
   "outputs": [],
   "source": [
    "bc.sql('select * from taxi').tail()"
   ]
  },
  {
   "cell_type": "markdown",
   "metadata": {},
   "source": [
    "### Matplotlib \n",
    "\n",
    "[GitHub](https://github.com/matplotlib/matplotlib)\n",
    "\n",
    "Matplotlib is a comprehensive library for creating static, animated, and interactive visualizations in Python.\n",
    "\n",
    "By calling the `.to_pandas()` method, we can convert a `cudf.DataFrame` into a `pandas.DataFrame` and hand off to Matplotlib or other CPU visualization packages.\n",
    "\n",
    "Let's convert a SQL query into a `pandas.DataFrame` and plot a correlation matrix leveraging pandas functionality."
   ]
  },
  {
   "cell_type": "code",
   "execution_count": null,
   "metadata": {},
   "outputs": [],
   "source": [
    "bc.sql('SELECT * FROM taxi').to_pandas().corr().style.background_gradient()"
   ]
  },
  {
   "cell_type": "markdown",
   "metadata": {},
   "source": [
    "Does the number of riders influence the tip amount?"
   ]
  },
  {
   "cell_type": "code",
   "execution_count": null,
   "metadata": {},
   "outputs": [],
   "source": [
    "bc.sql('SELECT * FROM taxi').to_pandas().plot(kind='scatter', x='passenger_count', y='tip_amount')"
   ]
  },
  {
   "cell_type": "markdown",
   "metadata": {},
   "source": [
    "How many riders are transported each hour?"
   ]
  },
  {
   "cell_type": "code",
   "execution_count": null,
   "metadata": {},
   "outputs": [],
   "source": [
    "riders_by_hour = '''\n",
    "                 select\n",
    "                     sum(passenger_count) as sum_riders,\n",
    "                     hour(cast(tpep_pickup_datetime || '.0' as TIMESTAMP)) as hours\n",
    "                 from\n",
    "                     taxi\n",
    "                 group by\n",
    "                     hour(cast(tpep_pickup_datetime || '.0' as TIMESTAMP))\n",
    "                 order by\n",
    "                     hour(cast(tpep_pickup_datetime || '.0' as TIMESTAMP))\n",
    "                     '''\n",
    "bc.sql(riders_by_hour).to_pandas().plot(kind='bar', x='hours', y='sum_riders', title='Sum Riders by Hour', figsize=(12, 6))"
   ]
  },
  {
   "cell_type": "markdown",
   "metadata": {},
   "source": [
    "How many passengers per ride?"
   ]
  },
  {
   "cell_type": "code",
   "execution_count": null,
   "metadata": {},
   "outputs": [],
   "source": [
    "avg_riders_by_hour = '''\n",
    "                     select\n",
    "                         avg(passenger_count) as avg_riders,\n",
    "                         hour(ts_pickup) as hours\n",
    "                     from (\n",
    "                         select\n",
    "                             passenger_count, \n",
    "                             cast(tpep_pickup_datetime || '.0' as TIMESTAMP) ts_pickup\n",
    "                         from\n",
    "                             taxi\n",
    "                             )\n",
    "                     group by\n",
    "                         hour(ts_pickup)\n",
    "                     order by\n",
    "                         hour(ts_pickup)\n",
    "                         '''\n",
    "bc.sql(avg_riders_by_hour).to_pandas().plot(kind='line', x='hours', y='avg_riders', title='Avg. Riders per Trip by Hour', figsize=(12, 6))"
   ]
  },
  {
   "cell_type": "markdown",
   "metadata": {},
   "source": [
    "### Datashader\n",
    "    \n",
    "[GitHub](https://github.com/holoviz/datashader/)\n",
    "\n",
    "Datashader is a data rasterization pipeline for automating the process of creating meaningful representations of large amounts of data that supports receiving a `cudf.DataFrame`.\n",
    "\n",
    "Using this very general pipeline, many interesting data visualizations can be created in a performant and scalable way. Datashader contains tools for easily creating these pipelines in a composable manner, using only a few lines of code. Datashader can be used on its own, but it is also designed to work as a pre-processing stage in a plotting library, allowing that library to work with much larger datasets than it would otherwise."
   ]
  },
  {
   "cell_type": "code",
   "execution_count": null,
   "metadata": {},
   "outputs": [],
   "source": [
    "from datashader import Canvas, transfer_functions as tf\n",
    "from colorcet import fire"
   ]
  },
  {
   "cell_type": "markdown",
   "metadata": {},
   "source": [
    "Do dropoff locations change based on the time of day? Let's say late night vs morning.\n",
    "\n",
    "#### Dropoffs from Midnight to 5:00 AM"
   ]
  },
  {
   "cell_type": "code",
   "execution_count": null,
   "metadata": {},
   "outputs": [],
   "source": [
    "query = '''\n",
    "        select \n",
    "            dropoff_x, dropoff_y \n",
    "        from \n",
    "            taxi \n",
    "            where  \n",
    "                hour(cast(tpep_pickup_datetime || '.0' as TIMESTAMP)) BETWEEN 0 AND 4\n",
    "                '''\n",
    "nyc = Canvas().points(bc.sql(query), 'dropoff_x', 'dropoff_y')\n",
    "tf.set_background(tf.shade(nyc, cmap=fire), \"black\")"
   ]
  },
  {
   "cell_type": "markdown",
   "metadata": {},
   "source": [
    "#### Dropoffs from 5:00 AM to 10:00 AM"
   ]
  },
  {
   "cell_type": "code",
   "execution_count": null,
   "metadata": {},
   "outputs": [],
   "source": [
    "query = '''\n",
    "        select \n",
    "            dropoff_x, dropoff_y \n",
    "        from \n",
    "            taxi \n",
    "            where  \n",
    "                hour(cast(tpep_pickup_datetime || '.0' as TIMESTAMP)) BETWEEN 5 AND 9\n",
    "                '''\n",
    "nyc = Canvas().points(bc.sql(query), 'dropoff_x', 'dropoff_y')\n",
    "tf.set_background(tf.shade(nyc, cmap=fire), \"black\")"
   ]
  },
  {
   "cell_type": "markdown",
   "metadata": {},
   "source": [
    "### HoloViews \n",
    "\n",
    "[GitHub](https://github.com/holoviz/holoviews)\n",
    "\n",
    "HoloViews is an open-source Python library designed to make data analysis and visualization seamless and simple. With HoloViews, you can usually express what you want to do in very few lines of code, letting you focus on what you are trying to explore and convey, not on the process of plotting.\n",
    "\n",
    "By calling the `.to_pandas()` method, we can convert a `cudf.DataFrame` into a `pandas.DataFrame` and hand off to HoloViews or other CPU visualization packages."
   ]
  },
  {
   "cell_type": "code",
   "execution_count": null,
   "metadata": {},
   "outputs": [],
   "source": [
    "from holoviews import extension, opts\n",
    "import holoviews.operation.datashader as hd\n",
    "from holoviews import Scatter, Bars, Dimension\n",
    "\n",
    "extension('bokeh')\n",
    "opts.defaults(opts.Bars(height=450, width=900), opts.Scatter(height=450, width=450), opts.RGB(height=450, width=450))"
   ]
  },
  {
   "cell_type": "markdown",
   "metadata": {},
   "source": [
    "Does passenger count affect tip amount?"
   ]
  },
  {
   "cell_type": "code",
   "execution_count": null,
   "metadata": {},
   "outputs": [],
   "source": [
    "s = Scatter(bc.sql('select passenger_count, tip_amount from taxi').to_pandas(), 'passenger_count', 'tip_amount')\n",
    "\n",
    "# 0-6 passengers, $0-$60 tip\n",
    "ranged = s.redim.range(passenger_count=(-0.5, 6.5), tip_amount=(0, 60))\n",
    "\n",
    "shaded = hd.spread(hd.datashade(ranged, x_sampling=0.25))\n",
    "\n",
    "shaded.redim.label(passenger_count=\"Passengers\", tip_amount=\"Tip, $\")"
   ]
  },
  {
   "cell_type": "markdown",
   "metadata": {},
   "source": [
    "Does trip distance affect tip amount?"
   ]
  },
  {
   "cell_type": "code",
   "execution_count": null,
   "metadata": {},
   "outputs": [],
   "source": [
    "riders_by_hour = '''\n",
    "                 select\n",
    "                     sum(passenger_count) as sum_riders,\n",
    "                     hour(cast(tpep_pickup_datetime || '.0' as TIMESTAMP)) as hours\n",
    "                 from\n",
    "                     taxi\n",
    "                 group by\n",
    "                     hour(cast(tpep_pickup_datetime || '.0' as TIMESTAMP))\n",
    "                 order by\n",
    "                     hour(cast(tpep_pickup_datetime || '.0' as TIMESTAMP))\n",
    "                     '''\n",
    "df = bc.sql(riders_by_hour).to_pandas()\n",
    "\n",
    "data = [(df.hours[i], df.sum_riders[i]) for i in range(len(df))]\n",
    "\n",
    "Bars(data, Dimension('Car occupants'), 'Count')"
   ]
  },
  {
   "cell_type": "code",
   "execution_count": null,
   "metadata": {},
   "outputs": [],
   "source": [
    "s = Scatter(bc.sql('select trip_distance, tip_amount from taxi').to_pandas(), 'trip_distance', 'tip_amount')\n",
    "\n",
    "# set scope from 0 miles - 25 miles and $0 - $50\n",
    "ranged = s.redim.range(trip_distance=(0, 25), tip_amount=(0, 50))\n",
    "\n",
    "shaded = hd.spread(hd.datashade(ranged))\n",
    "\n",
    "shaded.redim.label(trip_distance=\"Trip Distance\", tip_amount=\"Tip ($)\")"
   ]
  },
  {
   "cell_type": "markdown",
   "metadata": {},
   "source": [
    "## That's the Data Vizualization Tour!\n",
    "\n",
    "You've seen the basics of Data Visualization in BlazingSQL Notebooks and how to utilize it. Now is a good time to experiment with your own data and see how to parse, clean, and extract meaningful insights from it.\n",
    "\n",
    "We'll now get into how to run Machine Learning with popular Python and GPU-accelerated Python packages.\n",
    "\n",
    "\n",
    "[Continue to the Machine Learning introductory Notebook](machine_learning.ipynb)"
   ]
  }
 ],
 "metadata": {
  "kernelspec": {
   "display_name": "RAPIDS Stable",
   "language": "python",
   "name": "rapids-stable"
  },
  "language_info": {
   "codemirror_mode": {
    "name": "ipython",
    "version": 3
   },
   "file_extension": ".py",
   "mimetype": "text/x-python",
   "name": "python",
   "nbconvert_exporter": "python",
   "pygments_lexer": "ipython3",
   "version": "3.7.6"
  }
 },
 "nbformat": 4,
 "nbformat_minor": 4
}
