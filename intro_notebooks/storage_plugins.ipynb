{
 "cells": [
  {
   "cell_type": "markdown",
   "metadata": {},
   "source": [
    "### BlazingSQL Storage Plugins \n",
    "\n",
    "We think you should let data rest wherever it likes. Don't worry about synching, directly query files wherever they reside.\n",
    "\n",
    "With the BlazingSQL Filesystem API, you can register and connect to multiple storage solutions. \n",
    "\n",
    "- [AWS](https://docs.blazingdb.com/docs/s3) \n",
    "- [Google Storage](https://docs.blazingdb.com/docs/google-cloud-storage)\n",
    "- [HDFS](https://docs.blazingdb.com/docs/hdfs)\n",
    "\n",
    "Once a filesystem is registered you can reference the user-defined file path when creating a new table off of a file.\n",
    "    \n",
    "[Docs](https://docs.blazingdb.com/docs/connecting-data-sources) | [Welcome notebook](../welcome.ipynb#Storage-Plugins---Scale-Your-Data)"
   ]
  },
  {
   "cell_type": "code",
   "execution_count": null,
   "metadata": {},
   "outputs": [],
   "source": [
    "from blazingsql import BlazingContext\n",
    "\n",
    "bc = BlazingContext()"
   ]
  },
  {
   "cell_type": "markdown",
   "metadata": {},
   "source": [
    "#### AWS S3\n",
    "\n",
    "bc.s3('dir_name', bucket_name='bucket_name', access_key_id='access_key', secrect_key='secret_key')\n",
    "\n",
    "bc.create_table('table_name', 's3://dir_name/file.csv') \n",
    "\n",
    "[Docs](https://docs.blazingdb.com/docs/s3)"
   ]
  },
  {
   "cell_type": "code",
   "execution_count": null,
   "metadata": {},
   "outputs": [],
   "source": [
    "# register AWS S3 storage bucket \n",
    "bc.s3('bsql_data', bucket_name='blazingsql-colab')"
   ]
  },
  {
   "cell_type": "code",
   "execution_count": null,
   "metadata": {},
   "outputs": [],
   "source": [
    "# tag S3 {s3://} file path to specific data directory within 'bsql_data'\n",
    "tpch_sf10 = 's3://bsql_data/tpch_sf10/'\n",
    "\n",
    "# create 'orders' table from list of 10 orders files\n",
    "bc.create_table('orders', [f'{tpch_sf10}orders/0_0_{i}.parquet' for i in range(10)])"
   ]
  },
  {
   "cell_type": "code",
   "execution_count": null,
   "metadata": {},
   "outputs": [],
   "source": [
    "# query orders table\n",
    "bc.sql('select * from orders')"
   ]
  },
  {
   "cell_type": "markdown",
   "metadata": {},
   "source": [
    "#### Google Storage\n",
    "\n",
    "bc.gs('dir_name', project_id='project_name', bucket_name='bucket_name')\n",
    "\n",
    "bc.create_table('table_name', 'gs://dir_name/file.csv')\n",
    "\n",
    "[Docs](https://docs.blazingdb.com/docs/google-cloud-storage)"
   ]
  },
  {
   "cell_type": "code",
   "execution_count": null,
   "metadata": {},
   "outputs": [],
   "source": [
    "bc.gs('dir_name', project_id='project_name', bucket_name='bucket_name')"
   ]
  },
  {
   "cell_type": "code",
   "execution_count": null,
   "metadata": {},
   "outputs": [],
   "source": [
    "bc.create_table('table_name', 'gs://dir_name/file.csv')"
   ]
  },
  {
   "cell_type": "code",
   "execution_count": null,
   "metadata": {},
   "outputs": [],
   "source": [
    "# query table\n",
    "bc.sql('select * from orders')"
   ]
  },
  {
   "cell_type": "markdown",
   "metadata": {},
   "source": [
    "#### Hadoop Distributed File System (HDFS)\n",
    "\n",
    "bc.hdfs('dir_name', host='name_node_ip', port=port_number, user='hdfs_user')\n",
    "\n",
    "bc.create_table('table_name', 'hdfs://dir_name/file.csv') \n",
    "\n",
    "[Docs](https://docs.blazingdb.com/docs/hdfs)"
   ]
  },
  {
   "cell_type": "code",
   "execution_count": null,
   "metadata": {},
   "outputs": [],
   "source": [
    "bc.hdfs('dir_name', \n",
    "        host='name_node_ip', \n",
    "        port=port_number, \n",
    "        user='hdfs_user')"
   ]
  },
  {
   "cell_type": "code",
   "execution_count": null,
   "metadata": {},
   "outputs": [],
   "source": [
    "bc.create_table('table_name', 'hdfs://dir_name/file.csv')"
   ]
  },
  {
   "cell_type": "code",
   "execution_count": null,
   "metadata": {},
   "outputs": [],
   "source": [
    "# query table\n",
    "bc.sql('select * from orders')"
   ]
  }
 ],
 "metadata": {
  "kernelspec": {
   "display_name": "RAPIDS Nightly",
   "language": "python",
   "name": "python3"
  },
  "language_info": {
   "codemirror_mode": {
    "name": "ipython",
    "version": 3
   },
   "file_extension": ".py",
   "mimetype": "text/x-python",
   "name": "python",
   "nbconvert_exporter": "python",
   "pygments_lexer": "ipython3",
   "version": "3.7.6"
  }
 },
 "nbformat": 4,
 "nbformat_minor": 4
}
