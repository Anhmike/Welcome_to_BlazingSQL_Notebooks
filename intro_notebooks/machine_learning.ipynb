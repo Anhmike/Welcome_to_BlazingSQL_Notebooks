{
 "cells": [
  {
   "cell_type": "markdown",
   "metadata": {},
   "source": [
    "# Machine Learning\n",
    "\n",
    "## cuML\n",
    "[GitHub](https://github.com/rapidsai/cuml)\n",
    "\n",
    "cuML is a suite of libraries that implement machine learning algorithms and mathematical primitives functions that share compatible APIs with other RAPIDS projects.\n",
    "\n",
    "cuML enables data scientists, researchers, and software engineers to run traditional tabular ML tasks on GPUs without going into the details of CUDA programming. In most cases, cuML's Python API matches the API from scikit-learn.\n",
    "\n",
    "For large datasets, these GPU-based implementations can complete **10-50x** faster than their CPU equivalents.\n",
    "\n",
    "We'll show off a few examples to demonstrate the ease of using cuML. \n",
    "\n",
    "Parts of this were borrowed and lightly adapted from the cuML Githu repository.\n",
    "\n",
    "#### DBScan\n",
    "Here is an an example of computing DBSCAN clusters entirely on GPUs."
   ]
  },
  {
   "cell_type": "code",
   "execution_count": 1,
   "metadata": {},
   "outputs": [
    {
     "name": "stdout",
     "output_type": "stream",
     "text": [
      "0    0\n",
      "1    1\n",
      "2    2\n",
      "dtype: int32\n"
     ]
    }
   ],
   "source": [
    "import cudf\n",
    "from cuml.cluster import DBSCAN\n",
    "\n",
    "# Create and populate a GPU DataFrame\n",
    "gdf_float = cudf.DataFrame()\n",
    "gdf_float['0'] = [1.0, 2.0, 5.0]\n",
    "gdf_float['1'] = [4.0, 2.0, 1.0]\n",
    "gdf_float['2'] = [4.0, 2.0, 1.0]\n",
    "\n",
    "# Setup and fit clusters\n",
    "dbscan_float = DBSCAN(eps=1.0, min_samples=1)\n",
    "dbscan_float.fit(gdf_float)\n",
    "print(dbscan_float.labels_)"
   ]
  },
  {
   "cell_type": "markdown",
   "metadata": {},
   "source": [
    "#### Linear Regression on Data in AWS S3\n",
    "To demonstrate how the RAPIDS stack integrates to easily create data pipelines we're going to run a simple workflow.\n",
    "\n",
    "We are going to predict the fare of a [NYC Yellow Taxi](https://www1.nyc.gov/site/tlc/about/tlc-trip-record-data.page) cab ride. We are going to do this by running a `LinearRegression()` on a `cudf.DataFrame`. \n",
    "\n",
    "This DataFrame will be generated from a SQL query on an *Apache Parquet* dataset that resides in *AWS S3*.\n",
    "\n",
    "For more information on BlazingSQL and cuDF see [The DataFrame Notebook](the_dataframe.ipynb)."
   ]
  },
  {
   "cell_type": "code",
   "execution_count": 2,
   "metadata": {},
   "outputs": [
    {
     "name": "stdout",
     "output_type": "stream",
     "text": [
      "BlazingContext ready\n"
     ]
    },
    {
     "data": {
      "text/plain": [
       "(True,\n",
       " '',\n",
       " OrderedDict([('type', 's3'),\n",
       "              ('bucket_name', 'blazingsql-colab'),\n",
       "              ('access_key_id', ''),\n",
       "              ('secret_key', ''),\n",
       "              ('session_token', ''),\n",
       "              ('encryption_type', <S3EncryptionType.NONE: 1>),\n",
       "              ('kms_key_amazon_resource_name', '')]))"
      ]
     },
     "execution_count": 2,
     "metadata": {},
     "output_type": "execute_result"
    }
   ],
   "source": [
    "from blazingsql import BlazingContext\n",
    "bc = BlazingContext()\n",
    "bc.s3('blazingsql-colab', bucket_name='blazingsql-colab')"
   ]
  },
  {
   "cell_type": "code",
   "execution_count": 3,
   "metadata": {},
   "outputs": [
    {
     "ename": "ParseSchemaError",
     "evalue": "[ParseSchema Error] Path 's3://blazingsql-colab/yellow_taxi/1_0_0.parquet' does not exist. File or directory paths are expected to be in one of the following formats: For local file paths: '/folder0/folder1/fileName.extension'    For local file paths with wildcard: '/folder0/folder1/*fileName*.*'    For local directory paths: '/folder0/folder1/'    For s3 file paths: 's3://registeredFileSystemName/folder0/folder1/fileName.extension'    For s3 file paths with wildcard: '/folder0/folder1/*fileName*.*'    For s3 directory paths: 's3://registeredFileSystemName/folder0/folder1/'    For gs file paths: 'gs://registeredFileSystemName/folder0/folder1/fileName.extension'    For gs file paths with wildcard: '/folder0/folder1/*fileName*.*'    For gs directory paths: 'gs://registeredFileSystemName/folder0/folder1/'    For HDFS file paths: 'hdfs://registeredFileSystemName/folder0/folder1/fileName.extension'    For HDFS file paths with wildcard: '/folder0/folder1/*fileName*.*'    For HDFS directory paths: 'hdfs://registeredFileSystemName/folder0/folder1/'",
     "output_type": "error",
     "traceback": [
      "\u001b[0;31m---------------------------------------------------------------------------\u001b[0m",
      "\u001b[0;31mParseSchemaError\u001b[0m                          Traceback (most recent call last)",
      "\u001b[0;31mParseSchemaError\u001b[0m: [ParseSchema Error] Path 's3://blazingsql-colab/yellow_taxi/1_0_0.parquet' does not exist. File or directory paths are expected to be in one of the following formats: For local file paths: '/folder0/folder1/fileName.extension'    For local file paths with wildcard: '/folder0/folder1/*fileName*.*'    For local directory paths: '/folder0/folder1/'    For s3 file paths: 's3://registeredFileSystemName/folder0/folder1/fileName.extension'    For s3 file paths with wildcard: '/folder0/folder1/*fileName*.*'    For s3 directory paths: 's3://registeredFileSystemName/folder0/folder1/'    For gs file paths: 'gs://registeredFileSystemName/folder0/folder1/fileName.extension'    For gs file paths with wildcard: '/folder0/folder1/*fileName*.*'    For gs directory paths: 'gs://registeredFileSystemName/folder0/folder1/'    For HDFS file paths: 'hdfs://registeredFileSystemName/folder0/folder1/fileName.extension'    For HDFS file paths with wildcard: '/folder0/folder1/*fileName*.*'    For HDFS directory paths: 'hdfs://registeredFileSystemName/folder0/folder1/'"
     ]
    },
    {
     "name": "stderr",
     "output_type": "stream",
     "text": [
      "Exception ignored in: 'cio.parseSchemaPython'\n",
      "cio.ParseSchemaError: [ParseSchema Error] Path 's3://blazingsql-colab/yellow_taxi/1_0_0.parquet' does not exist. File or directory paths are expected to be in one of the following formats: For local file paths: '/folder0/folder1/fileName.extension'    For local file paths with wildcard: '/folder0/folder1/*fileName*.*'    For local directory paths: '/folder0/folder1/'    For s3 file paths: 's3://registeredFileSystemName/folder0/folder1/fileName.extension'    For s3 file paths with wildcard: '/folder0/folder1/*fileName*.*'    For s3 directory paths: 's3://registeredFileSystemName/folder0/folder1/'    For gs file paths: 'gs://registeredFileSystemName/folder0/folder1/fileName.extension'    For gs file paths with wildcard: '/folder0/folder1/*fileName*.*'    For gs directory paths: 'gs://registeredFileSystemName/folder0/folder1/'    For HDFS file paths: 'hdfs://registeredFileSystemName/folder0/folder1/fileName.extension'    For HDFS file paths with wildcard: '/folder0/folder1/*fileName*.*'    For HDFS directory paths: 'hdfs://registeredFileSystemName/folder0/folder1/'\n"
     ]
    },
    {
     "data": {
      "text/plain": [
       "<pyblazing.apiv2.context.BlazingTable at 0x7f12c0372590>"
      ]
     },
     "execution_count": 3,
     "metadata": {},
     "output_type": "execute_result"
    }
   ],
   "source": [
    "bc.create_table('taxi','s3://blazingsql-colab/yellow_taxi/1_0_0.parquet')"
   ]
  },
  {
   "cell_type": "markdown",
   "metadata": {},
   "source": [
    "Extract the desired features with `.sql()`, and then split up the data test using cuML's `train_test_split()` function."
   ]
  },
  {
   "cell_type": "code",
   "execution_count": 4,
   "metadata": {},
   "outputs": [
    {
     "ename": "com.blazingdb.calcite.application.SqlValidationException",
     "evalue": "com.blazingdb.calcite.application.SqlValidationException: SqlValidationException\n\nSELECT trip_distance, tolls_amount FROM taxi\n       ^^^^^^^^^^^^^\n\nFrom line 1, column 8 to line 1, column 20: Column 'trip_distance' not found in any table",
     "output_type": "error",
     "traceback": [
      "\u001b[0;31m---------------------------------------------------------------------------\u001b[0m",
      "\u001b[0;31mcom.blazingdb.calcite.application.SqlValidationException\u001b[0mTraceback (most recent call last)",
      "\u001b[0;32m<timed exec>\u001b[0m in \u001b[0;36m<module>\u001b[0;34m\u001b[0m\n",
      "\u001b[0;32m/opt/conda-environments/rapids-stable/lib/python3.7/site-packages/pyblazing/apiv2/context.py\u001b[0m in \u001b[0;36msql\u001b[0;34m(self, sql, table_list, algebra)\u001b[0m\n\u001b[1;32m    853\u001b[0m \u001b[0;34m\u001b[0m\u001b[0m\n\u001b[1;32m    854\u001b[0m         \u001b[0;32mif\u001b[0m \u001b[0;34m(\u001b[0m\u001b[0malgebra\u001b[0m \u001b[0;32mis\u001b[0m \u001b[0;32mNone\u001b[0m\u001b[0;34m)\u001b[0m\u001b[0;34m:\u001b[0m\u001b[0;34m\u001b[0m\u001b[0;34m\u001b[0m\u001b[0m\n\u001b[0;32m--> 855\u001b[0;31m             \u001b[0malgebra\u001b[0m \u001b[0;34m=\u001b[0m \u001b[0mself\u001b[0m\u001b[0;34m.\u001b[0m\u001b[0mexplain\u001b[0m\u001b[0;34m(\u001b[0m\u001b[0msql\u001b[0m\u001b[0;34m)\u001b[0m\u001b[0;34m\u001b[0m\u001b[0;34m\u001b[0m\u001b[0m\n\u001b[0m\u001b[1;32m    856\u001b[0m \u001b[0;34m\u001b[0m\u001b[0m\n\u001b[1;32m    857\u001b[0m         \u001b[0;32mif\u001b[0m \u001b[0mself\u001b[0m\u001b[0;34m.\u001b[0m\u001b[0mdask_client\u001b[0m \u001b[0;32mis\u001b[0m \u001b[0;32mNone\u001b[0m\u001b[0;34m:\u001b[0m\u001b[0;34m\u001b[0m\u001b[0;34m\u001b[0m\u001b[0m\n",
      "\u001b[0;32m/opt/conda-environments/rapids-stable/lib/python3.7/site-packages/pyblazing/apiv2/context.py\u001b[0m in \u001b[0;36mexplain\u001b[0;34m(self, sql)\u001b[0m\n\u001b[1;32m    591\u001b[0m \u001b[0;34m\u001b[0m\u001b[0m\n\u001b[1;32m    592\u001b[0m     \u001b[0;32mdef\u001b[0m \u001b[0mexplain\u001b[0m\u001b[0;34m(\u001b[0m\u001b[0mself\u001b[0m\u001b[0;34m,\u001b[0m \u001b[0msql\u001b[0m\u001b[0;34m)\u001b[0m\u001b[0;34m:\u001b[0m\u001b[0;34m\u001b[0m\u001b[0;34m\u001b[0m\u001b[0m\n\u001b[0;32m--> 593\u001b[0;31m         \u001b[0;32mreturn\u001b[0m \u001b[0mstr\u001b[0m\u001b[0;34m(\u001b[0m\u001b[0mself\u001b[0m\u001b[0;34m.\u001b[0m\u001b[0mgenerator\u001b[0m\u001b[0;34m.\u001b[0m\u001b[0mgetRelationalAlgebraString\u001b[0m\u001b[0;34m(\u001b[0m\u001b[0msql\u001b[0m\u001b[0;34m)\u001b[0m\u001b[0;34m)\u001b[0m\u001b[0;34m\u001b[0m\u001b[0;34m\u001b[0m\u001b[0m\n\u001b[0m\u001b[1;32m    594\u001b[0m \u001b[0;34m\u001b[0m\u001b[0m\n\u001b[1;32m    595\u001b[0m     \u001b[0;32mdef\u001b[0m \u001b[0madd_remove_table\u001b[0m\u001b[0;34m(\u001b[0m\u001b[0mself\u001b[0m\u001b[0;34m,\u001b[0m \u001b[0mtableName\u001b[0m\u001b[0;34m,\u001b[0m \u001b[0maddTable\u001b[0m\u001b[0;34m,\u001b[0m \u001b[0mtable\u001b[0m\u001b[0;34m=\u001b[0m\u001b[0;32mNone\u001b[0m\u001b[0;34m)\u001b[0m\u001b[0;34m:\u001b[0m\u001b[0;34m\u001b[0m\u001b[0;34m\u001b[0m\u001b[0m\n",
      "\u001b[0;31mcom.blazingdb.calcite.application.SqlValidationException\u001b[0m: com.blazingdb.calcite.application.SqlValidationException: SqlValidationException\n\nSELECT trip_distance, tolls_amount FROM taxi\n       ^^^^^^^^^^^^^\n\nFrom line 1, column 8 to line 1, column 20: Column 'trip_distance' not found in any table"
     ]
    }
   ],
   "source": [
    "%%time\n",
    "from cuml import LinearRegression\n",
    "from cuml.preprocessing.model_selection import train_test_split\n",
    "\n",
    "X = bc.sql('SELECT trip_distance, tolls_amount FROM taxi')\n",
    "y = bc.sql('SELECT fare_amount FROM taxi')['fare_amount']\n",
    "\n",
    "X_train, X_test, y_train, y_test = train_test_split(X, y, train_size=0.8)"
   ]
  },
  {
   "cell_type": "markdown",
   "metadata": {},
   "source": [
    "Then we run the `.fit()` and `.predict()` functions to perform the linear regression on the Taxi data."
   ]
  },
  {
   "cell_type": "code",
   "execution_count": 5,
   "metadata": {},
   "outputs": [
    {
     "ename": "NameError",
     "evalue": "name 'X_train' is not defined",
     "output_type": "error",
     "traceback": [
      "\u001b[0;31m---------------------------------------------------------------------------\u001b[0m",
      "\u001b[0;31mNameError\u001b[0m                                 Traceback (most recent call last)",
      "\u001b[0;32m<timed exec>\u001b[0m in \u001b[0;36m<module>\u001b[0;34m\u001b[0m\n",
      "\u001b[0;31mNameError\u001b[0m: name 'X_train' is not defined"
     ]
    }
   ],
   "source": [
    "%%time\n",
    "# call Linear Regression model\n",
    "lr = LinearRegression()\n",
    "\n",
    "# train the model\n",
    "lr.fit(X_train, y_train)\n",
    "\n",
    "# make predictions for test X values\n",
    "y_pred = lr.predict(X_test)"
   ]
  },
  {
   "cell_type": "markdown",
   "metadata": {},
   "source": [
    "We can convert test & predicted values `.to_pandas()` & find the model's `r2_score()`."
   ]
  },
  {
   "cell_type": "code",
   "execution_count": 6,
   "metadata": {},
   "outputs": [
    {
     "ename": "NameError",
     "evalue": "name 'y_test' is not defined",
     "output_type": "error",
     "traceback": [
      "\u001b[0;31m---------------------------------------------------------------------------\u001b[0m",
      "\u001b[0;31mNameError\u001b[0m                                 Traceback (most recent call last)",
      "\u001b[0;32m<ipython-input-6-278c02ac6ee5>\u001b[0m in \u001b[0;36m<module>\u001b[0;34m\u001b[0m\n\u001b[1;32m      1\u001b[0m \u001b[0;32mfrom\u001b[0m \u001b[0msklearn\u001b[0m\u001b[0;34m.\u001b[0m\u001b[0mmetrics\u001b[0m \u001b[0;32mimport\u001b[0m \u001b[0mr2_score\u001b[0m\u001b[0;34m\u001b[0m\u001b[0;34m\u001b[0m\u001b[0m\n\u001b[1;32m      2\u001b[0m \u001b[0;34m\u001b[0m\u001b[0m\n\u001b[0;32m----> 3\u001b[0;31m \u001b[0mr2_score\u001b[0m\u001b[0;34m(\u001b[0m\u001b[0my_true\u001b[0m\u001b[0;34m=\u001b[0m\u001b[0my_test\u001b[0m\u001b[0;34m.\u001b[0m\u001b[0mto_pandas\u001b[0m\u001b[0;34m(\u001b[0m\u001b[0;34m)\u001b[0m\u001b[0;34m,\u001b[0m \u001b[0my_pred\u001b[0m\u001b[0;34m=\u001b[0m\u001b[0my_pred\u001b[0m\u001b[0;34m.\u001b[0m\u001b[0mto_pandas\u001b[0m\u001b[0;34m(\u001b[0m\u001b[0;34m)\u001b[0m\u001b[0;34m)\u001b[0m\u001b[0;34m\u001b[0m\u001b[0;34m\u001b[0m\u001b[0m\n\u001b[0m",
      "\u001b[0;31mNameError\u001b[0m: name 'y_test' is not defined"
     ]
    }
   ],
   "source": [
    "from sklearn.metrics import r2_score\n",
    "\n",
    "r2_score(y_true=y_test.to_pandas(), y_pred=y_pred.to_pandas())"
   ]
  },
  {
   "cell_type": "markdown",
   "metadata": {},
   "source": [
    "## That is the Machine Learning Tour\n",
    "Those are but two simple examples of the algorithms supported by cuML.\n",
    "\n",
    "There are many more supported algorithms as you can see on the [cuML Github](https://github.com/rapidsai/cuml#supported-algorithms).\n",
    "\n",
    "That's all we have for now! Get coding your own workloads!"
   ]
  }
 ],
 "metadata": {
  "kernelspec": {
   "display_name": "RAPIDS Stable",
   "language": "python",
   "name": "rapids-stable"
  },
  "language_info": {
   "codemirror_mode": {
    "name": "ipython",
    "version": 3
   },
   "file_extension": ".py",
   "mimetype": "text/x-python",
   "name": "python",
   "nbconvert_exporter": "python",
   "pygments_lexer": "ipython3",
   "version": "3.7.6"
  }
 },
 "nbformat": 4,
 "nbformat_minor": 4
}
