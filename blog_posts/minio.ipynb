{
 "cells": [
  {
   "cell_type": "markdown",
   "metadata": {},
   "source": [
    "# Querying MinIO with BlazingSQL\n",
    "\n",
    "BlazingSQL is an open-source project, and as such, we gladly receive feature requests on our Github repository all the time. One such request ([#242](https://github.com/BlazingDB/blazingsql/issues/242)) was to allow registering a Storage Plugin that was AWS S3 API compliant, in this case MinIO.\n",
    "\n",
    "> MinIO is a high performance, Kubernetes-friendly, object store released open source under the Apache License v2.0. It is API compatible with Amazon S3 cloud storage service. Using MinIO, you can build high performance infrastructure for machine learning, analytics and application data workloads.\n",
    "\n",
    "In this Notebook, we'll go over how to install MinIO Server and register a MinIO bucket with BlazingSQL so we can run queries on top of files that are stored in a MinIO cluster."
   ]
  },
  {
   "cell_type": "code",
   "execution_count": 1,
   "metadata": {},
   "outputs": [
    {
     "name": "stdout",
     "output_type": "stream",
     "text": [
      "BlazingContext ready\n"
     ]
    }
   ],
   "source": [
    "from blazingsql import BlazingContext\n",
    "bc = BlazingContext()"
   ]
  },
  {
   "cell_type": "markdown",
   "metadata": {},
   "source": [
    "### Set Up MinIO Server\n",
    "MinIO can be deployed on Linux, Kubernetes, MacOS, Windows and with Source. This demo was built in an Ubuntu 18.04 environment, so we’ll set up MinIO for Linux.\n",
    "\n",
    "Start by downloading the MinIO Server. The code cell below will download MinIO Server one level above where you are running this Notebook."
   ]
  },
  {
   "cell_type": "code",
   "execution_count": 2,
   "metadata": {},
   "outputs": [
    {
     "name": "stdout",
     "output_type": "stream",
     "text": [
      "--2020-04-23 09:14:46--  https://dl.min.io/server/minio/release/linux-amd64/minio\n",
      "Resolving dl.min.io (dl.min.io)... 178.128.69.202\n",
      "Connecting to dl.min.io (dl.min.io)|178.128.69.202|:443... connected.\n",
      "HTTP request sent, awaiting response... 200 OK\n",
      "Length: 48787456 (47M) [application/octet-stream]\n",
      "Saving to: ‘../minio’\n",
      "\n",
      "minio               100%[===================>]  46.53M  17.1MB/s    in 2.7s    \n",
      "\n",
      "2020-04-23 09:14:49 (17.1 MB/s) - ‘../minio’ saved [48787456/48787456]\n",
      "\n"
     ]
    }
   ],
   "source": [
    "!wget -P .. https://dl.min.io/server/minio/release/linux-amd64/minio"
   ]
  },
  {
   "cell_type": "markdown",
   "metadata": {},
   "source": [
    "Once the download completes, simply grant permissions with; "
   ]
  },
  {
   "cell_type": "code",
   "execution_count": 3,
   "metadata": {},
   "outputs": [],
   "source": [
    "!chmod +x ../minio"
   ]
  },
  {
   "cell_type": "markdown",
   "metadata": {},
   "source": [
    "### Launch MinIO Server\n",
    "MinIO Server installed, you’re now equipped to start a Server by calling `./minio server` followed the relative path to where you’d like the Server to run. In this case, we’re going to set up inside the `Welcome_to_BlazingSQL_Notebooks` repo. \n",
    "\n",
    "**Note**: running a continuous server in a Jupyter Notebook Code cell means that cell will execute until the server is turned off, so you will not be able to run the MinIO Server within this Notebook and complete the demo simultaneously. Please start a Terminal session with the JupyterLab Launcher and run the Server from there with `./minio server .`."
   ]
  },
  {
   "cell_type": "code",
   "execution_count": 4,
   "metadata": {},
   "outputs": [],
   "source": [
    "# !../minio server ."
   ]
  },
  {
   "cell_type": "markdown",
   "metadata": {},
   "source": [
    "<img src=\"../data/imgs/minio_server.png\" width=\"69%\" />"
   ]
  },
  {
   "cell_type": "markdown",
   "metadata": {},
   "source": [
    "### Register MinIO S3 bucker\n",
    "With the Server running in `Welcome_to_BlazingSQL_Noteooks`, all of the repo's sub-directories have automatically are accessable as S3 buckets.\n",
    "\n",
    "For this demo, we'll use data stored in the `data` bucket. As this bucket is not public, we'll need to input our `access_key_id` and `secret_key`.\n",
    "\n",
    "To help BlazingSQL locate MinIO bucket, we'll also input the Server's URL as the `endpoint_override`.\n",
    "\n",
    "`endpoint_override` is a new parameter that was added with [BlazingDB/blazingsql#524](https://github.com/BlazingDB/blazingsql/pull/524) to support MinIO S3 by extending our AWS S3 Storage Plugin to use custom URL endpoints."
   ]
  },
  {
   "cell_type": "code",
   "execution_count": 5,
   "metadata": {},
   "outputs": [
    {
     "data": {
      "text/plain": [
       "(True,\n",
       " '',\n",
       " OrderedDict([('type', 's3'),\n",
       "              ('bucket_name', 'data'),\n",
       "              ('access_key_id', 'minioadmin'),\n",
       "              ('secret_key', 'minioadmin'),\n",
       "              ('session_token', ''),\n",
       "              ('encryption_type', <S3EncryptionType.NONE: 1>),\n",
       "              ('kms_key_amazon_resource_name', ''),\n",
       "              ('endpoint_override', 'http://127.0.0.1:9000')]))"
      ]
     },
     "execution_count": 5,
     "metadata": {},
     "output_type": "execute_result"
    }
   ],
   "source": [
    "bc.s3('taxi', \n",
    "      bucket_name='data',\n",
    "      access_key_id='minioadmin', \n",
    "      secret_key='minioadmin',\n",
    "      endpoint_override=\"http://127.0.0.1:9000\")"
   ]
  },
  {
   "cell_type": "markdown",
   "metadata": {},
   "source": [
    "### Create & Query table from MinIO S3 bucket\n",
    "\n",
    "Now that the MinIO S3 bucket is registered with BlazingContext, we can easily create & query tables from data stored there."
   ]
  },
  {
   "cell_type": "code",
   "execution_count": 6,
   "metadata": {},
   "outputs": [],
   "source": [
    "bc.create_table('taxi', 's3://taxi/sample_taxi.csv')"
   ]
  },
  {
   "cell_type": "markdown",
   "metadata": {},
   "source": [
    "And pull DataFrames from those tables with `.sql()`;"
   ]
  },
  {
   "cell_type": "code",
   "execution_count": 7,
   "metadata": {},
   "outputs": [
    {
     "data": {
      "text/html": [
       "<div>\n",
       "<style scoped>\n",
       "    .dataframe tbody tr th:only-of-type {\n",
       "        vertical-align: middle;\n",
       "    }\n",
       "\n",
       "    .dataframe tbody tr th {\n",
       "        vertical-align: top;\n",
       "    }\n",
       "\n",
       "    .dataframe thead th {\n",
       "        text-align: right;\n",
       "    }\n",
       "</style>\n",
       "<table border=\"1\" class=\"dataframe\">\n",
       "  <thead>\n",
       "    <tr style=\"text-align: right;\">\n",
       "      <th></th>\n",
       "      <th>VendorID</th>\n",
       "      <th>tpep_pickup_datetime</th>\n",
       "      <th>tpep_dropoff_datetime</th>\n",
       "      <th>passenger_count</th>\n",
       "      <th>trip_distance</th>\n",
       "      <th>pickup_x</th>\n",
       "      <th>pickup_y</th>\n",
       "      <th>RateCodeID</th>\n",
       "      <th>store_and_fwd_flag</th>\n",
       "      <th>dropoff_x</th>\n",
       "      <th>dropoff_y</th>\n",
       "      <th>payment_type</th>\n",
       "      <th>fare_amount</th>\n",
       "      <th>extra</th>\n",
       "      <th>mta_tax</th>\n",
       "      <th>tip_amount</th>\n",
       "      <th>tolls_amount</th>\n",
       "      <th>total_amount</th>\n",
       "    </tr>\n",
       "  </thead>\n",
       "  <tbody>\n",
       "    <tr>\n",
       "      <th>0</th>\n",
       "      <td>2</td>\n",
       "      <td>2015-03-05 07:38:36</td>\n",
       "      <td>2015-03-05 07:44:06</td>\n",
       "      <td>1</td>\n",
       "      <td>1.10</td>\n",
       "      <td>-8235279.565</td>\n",
       "      <td>4975191.631</td>\n",
       "      <td>1</td>\n",
       "      <td>N</td>\n",
       "      <td>-8235303.346</td>\n",
       "      <td>4973620.602</td>\n",
       "      <td>1</td>\n",
       "      <td>6.0</td>\n",
       "      <td>0.0</td>\n",
       "      <td>0.5</td>\n",
       "      <td>2.00</td>\n",
       "      <td>0.0</td>\n",
       "      <td>8.80</td>\n",
       "    </tr>\n",
       "    <tr>\n",
       "      <th>1</th>\n",
       "      <td>1</td>\n",
       "      <td>2015-02-03 05:41:55</td>\n",
       "      <td>2015-02-03 05:46:54</td>\n",
       "      <td>1</td>\n",
       "      <td>0.70</td>\n",
       "      <td>-8235656.655</td>\n",
       "      <td>4972873.569</td>\n",
       "      <td>1</td>\n",
       "      <td>N</td>\n",
       "      <td>-8236483.024</td>\n",
       "      <td>4973822.361</td>\n",
       "      <td>1</td>\n",
       "      <td>5.5</td>\n",
       "      <td>0.5</td>\n",
       "      <td>0.5</td>\n",
       "      <td>1.36</td>\n",
       "      <td>0.0</td>\n",
       "      <td>8.16</td>\n",
       "    </tr>\n",
       "    <tr>\n",
       "      <th>2</th>\n",
       "      <td>2</td>\n",
       "      <td>2015-02-08 16:17:51</td>\n",
       "      <td>2015-02-08 16:37:45</td>\n",
       "      <td>1</td>\n",
       "      <td>3.65</td>\n",
       "      <td>-8238228.336</td>\n",
       "      <td>4974965.742</td>\n",
       "      <td>1</td>\n",
       "      <td>N</td>\n",
       "      <td>-8233503.678</td>\n",
       "      <td>4978004.758</td>\n",
       "      <td>2</td>\n",
       "      <td>16.0</td>\n",
       "      <td>0.0</td>\n",
       "      <td>0.5</td>\n",
       "      <td>0.00</td>\n",
       "      <td>0.0</td>\n",
       "      <td>16.80</td>\n",
       "    </tr>\n",
       "    <tr>\n",
       "      <th>3</th>\n",
       "      <td>2</td>\n",
       "      <td>2015-03-07 02:17:05</td>\n",
       "      <td>2015-03-07 02:22:18</td>\n",
       "      <td>3</td>\n",
       "      <td>0.77</td>\n",
       "      <td>-8232200.852</td>\n",
       "      <td>4980818.134</td>\n",
       "      <td>1</td>\n",
       "      <td>N</td>\n",
       "      <td>-8231245.389</td>\n",
       "      <td>4980848.420</td>\n",
       "      <td>2</td>\n",
       "      <td>5.5</td>\n",
       "      <td>0.5</td>\n",
       "      <td>0.5</td>\n",
       "      <td>0.00</td>\n",
       "      <td>0.0</td>\n",
       "      <td>6.80</td>\n",
       "    </tr>\n",
       "    <tr>\n",
       "      <th>4</th>\n",
       "      <td>2</td>\n",
       "      <td>2015-02-05 21:05:35</td>\n",
       "      <td>2015-02-05 21:10:33</td>\n",
       "      <td>2</td>\n",
       "      <td>0.74</td>\n",
       "      <td>-8236124.619</td>\n",
       "      <td>4973741.097</td>\n",
       "      <td>1</td>\n",
       "      <td>N</td>\n",
       "      <td>-8234966.173</td>\n",
       "      <td>4972970.518</td>\n",
       "      <td>1</td>\n",
       "      <td>5.5</td>\n",
       "      <td>0.5</td>\n",
       "      <td>0.5</td>\n",
       "      <td>1.00</td>\n",
       "      <td>0.0</td>\n",
       "      <td>7.80</td>\n",
       "    </tr>\n",
       "    <tr>\n",
       "      <th>...</th>\n",
       "      <td>...</td>\n",
       "      <td>...</td>\n",
       "      <td>...</td>\n",
       "      <td>...</td>\n",
       "      <td>...</td>\n",
       "      <td>...</td>\n",
       "      <td>...</td>\n",
       "      <td>...</td>\n",
       "      <td>...</td>\n",
       "      <td>...</td>\n",
       "      <td>...</td>\n",
       "      <td>...</td>\n",
       "      <td>...</td>\n",
       "      <td>...</td>\n",
       "      <td>...</td>\n",
       "      <td>...</td>\n",
       "      <td>...</td>\n",
       "      <td>...</td>\n",
       "    </tr>\n",
       "    <tr>\n",
       "      <th>999995</th>\n",
       "      <td>2</td>\n",
       "      <td>2015-02-23 22:14:26</td>\n",
       "      <td>2015-02-23 22:17:34</td>\n",
       "      <td>1</td>\n",
       "      <td>0.89</td>\n",
       "      <td>-8233236.149</td>\n",
       "      <td>4978496.493</td>\n",
       "      <td>1</td>\n",
       "      <td>N</td>\n",
       "      <td>-8231928.226</td>\n",
       "      <td>4979053.300</td>\n",
       "      <td>2</td>\n",
       "      <td>5.0</td>\n",
       "      <td>0.5</td>\n",
       "      <td>0.5</td>\n",
       "      <td>0.00</td>\n",
       "      <td>0.0</td>\n",
       "      <td>6.30</td>\n",
       "    </tr>\n",
       "    <tr>\n",
       "      <th>999996</th>\n",
       "      <td>2</td>\n",
       "      <td>2015-01-22 03:46:03</td>\n",
       "      <td>2015-01-22 03:49:51</td>\n",
       "      <td>1</td>\n",
       "      <td>1.62</td>\n",
       "      <td>-8235466.411</td>\n",
       "      <td>4980026.247</td>\n",
       "      <td>1</td>\n",
       "      <td>N</td>\n",
       "      <td>-8234375.060</td>\n",
       "      <td>4982699.404</td>\n",
       "      <td>2</td>\n",
       "      <td>6.5</td>\n",
       "      <td>0.5</td>\n",
       "      <td>0.5</td>\n",
       "      <td>0.00</td>\n",
       "      <td>0.0</td>\n",
       "      <td>0.30</td>\n",
       "    </tr>\n",
       "    <tr>\n",
       "      <th>999997</th>\n",
       "      <td>2</td>\n",
       "      <td>2015-02-05 16:19:05</td>\n",
       "      <td>2015-02-05 16:38:43</td>\n",
       "      <td>2</td>\n",
       "      <td>5.20</td>\n",
       "      <td>-8234358.074</td>\n",
       "      <td>4982376.298</td>\n",
       "      <td>1</td>\n",
       "      <td>N</td>\n",
       "      <td>-8236800.662</td>\n",
       "      <td>4974834.022</td>\n",
       "      <td>1</td>\n",
       "      <td>19.5</td>\n",
       "      <td>1.0</td>\n",
       "      <td>0.5</td>\n",
       "      <td>5.32</td>\n",
       "      <td>0.0</td>\n",
       "      <td>26.62</td>\n",
       "    </tr>\n",
       "    <tr>\n",
       "      <th>999998</th>\n",
       "      <td>2</td>\n",
       "      <td>2015-01-27 18:29:36</td>\n",
       "      <td>2015-01-27 18:40:06</td>\n",
       "      <td>1</td>\n",
       "      <td>1.91</td>\n",
       "      <td>-8238416.031</td>\n",
       "      <td>4968924.713</td>\n",
       "      <td>1</td>\n",
       "      <td>N</td>\n",
       "      <td>-8236314.013</td>\n",
       "      <td>4971218.867</td>\n",
       "      <td>1</td>\n",
       "      <td>9.5</td>\n",
       "      <td>1.0</td>\n",
       "      <td>0.5</td>\n",
       "      <td>2.26</td>\n",
       "      <td>0.0</td>\n",
       "      <td>0.30</td>\n",
       "    </tr>\n",
       "    <tr>\n",
       "      <th>999999</th>\n",
       "      <td>2</td>\n",
       "      <td>2015-03-01 07:19:14</td>\n",
       "      <td>2015-03-01 07:24:14</td>\n",
       "      <td>1</td>\n",
       "      <td>1.53</td>\n",
       "      <td>-8235812.077</td>\n",
       "      <td>4971424.499</td>\n",
       "      <td>1</td>\n",
       "      <td>N</td>\n",
       "      <td>-8236943.345</td>\n",
       "      <td>4973502.911</td>\n",
       "      <td>1</td>\n",
       "      <td>7.0</td>\n",
       "      <td>0.0</td>\n",
       "      <td>0.5</td>\n",
       "      <td>1.00</td>\n",
       "      <td>0.0</td>\n",
       "      <td>8.80</td>\n",
       "    </tr>\n",
       "  </tbody>\n",
       "</table>\n",
       "<p>1000000 rows × 18 columns</p>\n",
       "</div>"
      ],
      "text/plain": [
       "        VendorID tpep_pickup_datetime tpep_dropoff_datetime  passenger_count  \\\n",
       "0              2  2015-03-05 07:38:36   2015-03-05 07:44:06                1   \n",
       "1              1  2015-02-03 05:41:55   2015-02-03 05:46:54                1   \n",
       "2              2  2015-02-08 16:17:51   2015-02-08 16:37:45                1   \n",
       "3              2  2015-03-07 02:17:05   2015-03-07 02:22:18                3   \n",
       "4              2  2015-02-05 21:05:35   2015-02-05 21:10:33                2   \n",
       "...          ...                  ...                   ...              ...   \n",
       "999995         2  2015-02-23 22:14:26   2015-02-23 22:17:34                1   \n",
       "999996         2  2015-01-22 03:46:03   2015-01-22 03:49:51                1   \n",
       "999997         2  2015-02-05 16:19:05   2015-02-05 16:38:43                2   \n",
       "999998         2  2015-01-27 18:29:36   2015-01-27 18:40:06                1   \n",
       "999999         2  2015-03-01 07:19:14   2015-03-01 07:24:14                1   \n",
       "\n",
       "        trip_distance     pickup_x     pickup_y  RateCodeID  \\\n",
       "0                1.10 -8235279.565  4975191.631           1   \n",
       "1                0.70 -8235656.655  4972873.569           1   \n",
       "2                3.65 -8238228.336  4974965.742           1   \n",
       "3                0.77 -8232200.852  4980818.134           1   \n",
       "4                0.74 -8236124.619  4973741.097           1   \n",
       "...               ...          ...          ...         ...   \n",
       "999995           0.89 -8233236.149  4978496.493           1   \n",
       "999996           1.62 -8235466.411  4980026.247           1   \n",
       "999997           5.20 -8234358.074  4982376.298           1   \n",
       "999998           1.91 -8238416.031  4968924.713           1   \n",
       "999999           1.53 -8235812.077  4971424.499           1   \n",
       "\n",
       "       store_and_fwd_flag    dropoff_x    dropoff_y  payment_type  \\\n",
       "0                       N -8235303.346  4973620.602             1   \n",
       "1                       N -8236483.024  4973822.361             1   \n",
       "2                       N -8233503.678  4978004.758             2   \n",
       "3                       N -8231245.389  4980848.420             2   \n",
       "4                       N -8234966.173  4972970.518             1   \n",
       "...                   ...          ...          ...           ...   \n",
       "999995                  N -8231928.226  4979053.300             2   \n",
       "999996                  N -8234375.060  4982699.404             2   \n",
       "999997                  N -8236800.662  4974834.022             1   \n",
       "999998                  N -8236314.013  4971218.867             1   \n",
       "999999                  N -8236943.345  4973502.911             1   \n",
       "\n",
       "        fare_amount  extra  mta_tax  tip_amount  tolls_amount  total_amount  \n",
       "0               6.0    0.0      0.5        2.00           0.0          8.80  \n",
       "1               5.5    0.5      0.5        1.36           0.0          8.16  \n",
       "2              16.0    0.0      0.5        0.00           0.0         16.80  \n",
       "3               5.5    0.5      0.5        0.00           0.0          6.80  \n",
       "4               5.5    0.5      0.5        1.00           0.0          7.80  \n",
       "...             ...    ...      ...         ...           ...           ...  \n",
       "999995          5.0    0.5      0.5        0.00           0.0          6.30  \n",
       "999996          6.5    0.5      0.5        0.00           0.0          0.30  \n",
       "999997         19.5    1.0      0.5        5.32           0.0         26.62  \n",
       "999998          9.5    1.0      0.5        2.26           0.0          0.30  \n",
       "999999          7.0    0.0      0.5        1.00           0.0          8.80  \n",
       "\n",
       "[1000000 rows x 18 columns]"
      ]
     },
     "execution_count": 7,
     "metadata": {},
     "output_type": "execute_result"
    }
   ],
   "source": [
    "bc.sql(\"select * from taxi\")"
   ]
  },
  {
   "cell_type": "markdown",
   "metadata": {},
   "source": [
    "Handoff results to data viz packages like Matplotlib the same way;"
   ]
  },
  {
   "cell_type": "code",
   "execution_count": 8,
   "metadata": {},
   "outputs": [
    {
     "data": {
      "text/plain": [
       "<matplotlib.axes._subplots.AxesSubplot at 0x7fa951203f90>"
      ]
     },
     "execution_count": 8,
     "metadata": {},
     "output_type": "execute_result"
    },
    {
     "data": {
      "image/png": "[encoded data removed]",
      "text/plain": [
       "<Figure size 864x288 with 1 Axes>"
      ]
     },
     "metadata": {
      "needs_background": "light"
     },
     "output_type": "display_data"
    }
   ],
   "source": [
    "query = '''\n",
    "        SELECT \n",
    "            cast(trip_distance as int) int_dist, tip_amount \n",
    "        FROM \n",
    "            taxi\n",
    "            WHERE\n",
    "                trip_distance <= 20\n",
    "                AND tip_amount BETWEEN 0 AND 40\n",
    "                '''\n",
    "bc.sql(query).to_pandas().plot(kind='scatter', x='int_dist', y='tip_amount', figsize=(12, 4))"
   ]
  },
  {
   "cell_type": "markdown",
   "metadata": {},
   "source": [
    "Train machine learning models with suites like cuML;"
   ]
  },
  {
   "cell_type": "code",
   "execution_count": 9,
   "metadata": {},
   "outputs": [
    {
     "data": {
      "text/plain": [
       "0     5.958761\n",
       "1    21.315652\n",
       "2    67.386324\n",
       "dtype: float64"
      ]
     },
     "execution_count": 9,
     "metadata": {},
     "output_type": "execute_result"
    }
   ],
   "source": [
    "from cuml import LinearRegression\n",
    "lr = LinearRegression()\n",
    "\n",
    "lr.fit(X=bc.sql('SELECT tip_amount, passenger_count FROM taxi'),\n",
    "       y=bc.sql('SELECT trip_distance FROM taxi')['trip_distance'])\n",
    "\n",
    "import cudf\n",
    "df = cudf.DataFrame()\n",
    "\n",
    "df['tip_amount'] = [0.00, 5.00, 20.00]\n",
    "df['passenger_count'] = [1.0, 1.0, 1.0]\n",
    "\n",
    "lr.predict(df)"
   ]
  },
  {
   "cell_type": "markdown",
   "metadata": {},
   "source": [
    "Or whatever else you please!\n",
    "\n",
    "<a href='https://app.blazingsql.com/jupyter/user-redirect/lab/workspaces/auto-b/tree/Welcome_to_BlazingSQL_Notebooks/blog_posts/minio.ipynb'><img src=\"https://blazingsql.com/launch-notebooks.png\" alt=\"Launch on BlazingSQL Notebooks\" width=\"500\"/></a>"
   ]
  }
 ],
 "metadata": {
  "kernelspec": {
   "display_name": "RAPIDS Nightly",
   "language": "python",
   "name": "python3"
  },
  "language_info": {
   "codemirror_mode": {
    "name": "ipython",
    "version": 3
   },
   "file_extension": ".py",
   "mimetype": "text/x-python",
   "name": "python",
   "nbconvert_exporter": "python",
   "pygments_lexer": "ipython3",
   "version": "3.7.6"
  }
 },
 "nbformat": 4,
 "nbformat_minor": 4
}
