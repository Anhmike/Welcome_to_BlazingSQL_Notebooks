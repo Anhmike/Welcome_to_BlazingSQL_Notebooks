{
 "cells": [
  {
   "cell_type": "markdown",
   "metadata": {},
   "source": [
    "# Title\n",
    "#### Subtitle\n",
    "\n",
    "Words"
   ]
  },
  {
   "cell_type": "code",
   "execution_count": 2,
   "metadata": {},
   "outputs": [
    {
     "name": "stdout",
     "output_type": "stream",
     "text": [
      "BlazingContext ready\n"
     ]
    }
   ],
   "source": [
    "from blazingsql import BlazingContext\n",
    "bc = BlazingContext()"
   ]
  },
  {
   "cell_type": "markdown",
   "metadata": {},
   "source": [
    "## MinIO"
   ]
  },
  {
   "cell_type": "markdown",
   "metadata": {},
   "source": [
    "#### Set Up MinIO Server"
   ]
  },
  {
   "cell_type": "code",
   "execution_count": null,
   "metadata": {},
   "outputs": [],
   "source": [
    "# elsewhere"
   ]
  },
  {
   "cell_type": "markdown",
   "metadata": {},
   "source": [
    "#### Create MinIO S3 bucker"
   ]
  },
  {
   "cell_type": "code",
   "execution_count": null,
   "metadata": {},
   "outputs": [],
   "source": [
    "# elsewhere"
   ]
  },
  {
   "cell_type": "markdown",
   "metadata": {},
   "source": [
    "Register the MinIO S3 bucket with BlazingSQL. As this bucket is not public, we'll need to input our `access_key_id` and `secret_key`.\n",
    "\n",
    "To help BlazingSQL locate and understand the MinIO bucket, we'll also input the Server's URL as the `endpoint_override` and the bucket's `encryption_type`.\n",
    "\n",
    "`endpoint_override` is a new parameter that was added with [BlazingDB/blazingsql#524](https://github.com/BlazingDB/blazingsql/pull/524) to support MinIO S3 by extending our AWS S3 Storage Plugin to use custom URL endpoints."
   ]
  },
  {
   "cell_type": "code",
   "execution_count": 6,
   "metadata": {},
   "outputs": [
    {
     "data": {
      "text/plain": [
       "(True,\n",
       " '',\n",
       " OrderedDict([('type', 's3'),\n",
       "              ('bucket_name', 'taxi'),\n",
       "              ('access_key_id', 'minioadmin'),\n",
       "              ('secret_key', 'minioadmin'),\n",
       "              ('session_token', ''),\n",
       "              ('encryption_type', <S3EncryptionType.NONE: 1>),\n",
       "              ('kms_key_amazon_resource_name', ''),\n",
       "              ('endpoint_override', 'http://127.0.0.1:9000')]))"
      ]
     },
     "execution_count": 6,
     "metadata": {},
     "output_type": "execute_result"
    }
   ],
   "source": [
    "from blazingsql import S3EncryptionType \n",
    "\n",
    "bc.s3('taxi', \n",
    "      bucket_name='data',\n",
    "      access_key_id='minioadmin', \n",
    "      secret_key='minioadmin',\n",
    "      encryption_type=S3EncryptionType.NONE, \n",
    "      endpoint_override=\"http://127.0.0.1:9000\")"
   ]
  },
  {
   "cell_type": "markdown",
   "metadata": {},
   "source": [
    "#### Create & Query table from MinIO S3 bucket\n",
    "\n",
    "Now that the MinIO S3 bucket is registered with BlazingContext, we can easily create & query tables from data stored there."
   ]
  },
  {
   "cell_type": "code",
   "execution_count": null,
   "metadata": {},
   "outputs": [],
   "source": [
    "files = 's3://taxi/nyc_taxi_jan15.csv'\n",
    "\n",
    "bc.create_table('taxi', files)"
   ]
  },
  {
   "cell_type": "code",
   "execution_count": null,
   "metadata": {},
   "outputs": [],
   "source": [
    "bc.sql(\"select * from taxi\")"
   ]
  }
 ],
 "metadata": {
  "kernelspec": {
   "display_name": "Python 3",
   "language": "python",
   "name": "python3"
  },
  "language_info": {
   "codemirror_mode": {
    "name": "ipython",
    "version": 3
   },
   "file_extension": ".py",
   "mimetype": "text/x-python",
   "name": "python",
   "nbconvert_exporter": "python",
   "pygments_lexer": "ipython3",
   "version": "3.7.7"
  }
 },
 "nbformat": 4,
 "nbformat_minor": 4
}
